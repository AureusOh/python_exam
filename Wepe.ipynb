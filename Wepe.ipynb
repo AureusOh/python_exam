{
 "cells": [
  {
   "cell_type": "markdown",
   "metadata": {},
   "source": [
    "외계어(language P)를 영어(plain English)로 바꾸어주는 문제이다.\n",
    "\n",
    "외계어는 모음 뒤에 'p'를 붙이고 모음을 반복해서 적어준다.\n",
    "\n",
    "모음이 한 글자일 수도 여러 글자일 수도 있다.(one or more consecutive vowels)"
   ]
  },
  {
   "cell_type": "markdown",
   "metadata": {},
   "source": [
    "외계어를 영어로 바꾸는 것이므로,\n",
    "\n",
    "1. 모음을 찾는다.\n",
    "\n",
    "2. 'p'가 나올때까지의 모음의 개수를 샌다.\n",
    "  cupu : 모음 한개\n",
    "  koopoo : 모음 두개\n",
    "\n",
    "3. 'p'포함 모음의 개수까지를 건너뛴다.\n",
    "\n",
    "예를 들면,\n",
    "c u p u c k o o p o o 가 한 글짜씩 옯겨적는다.\n",
    "\n",
    "c : 자음임  -> c\n",
    "u : 앗 모음이다. 카운트 1  -> cu\n",
    "p : p가 나왔네... 카운트는 여전히 1, p는 건너뛴다. -> cu\n",
    "u : p가 나왔고, 카운트가 1이니, 카운트는 0으로 만들고 건너 뛴다. -> 여전히 cu\n",
    "c : 자음이니, -> cuc\n",
    "k : 자음 ㅋ -> cuck\n",
    "o : 모음, 카운트 1, 넣어주고 -> cucko\n",
    "o : 모음, 'p'도 아니고, 카운트 2, 넣어주고 -> cuckoo\n",
    "p : p가 나왔네, 카운트는 2고, 건너뛴다. -> cuckoo\n",
    "o : 카운트 1, 건너뛴다 -> cuckoo\n",
    "o : 카운트 0, 건너뛴다 -> cuckoo\n",
    "끝"
   ]
  },
  {
   "cell_type": "code",
   "execution_count": 5,
   "metadata": {},
   "outputs": [],
   "source": [
    "# 변수\n",
    "sentence = 'Grapandmapa Epevepe\\'s cupuckoopoo clopock seepeems bropokepen.'"
   ]
  },
  {
   "cell_type": "code",
   "execution_count": 6,
   "metadata": {},
   "outputs": [
    {
     "name": "stdout",
     "output_type": "stream",
     "text": [
      "G r a p a n d m a p a   E p e v e p e ' s   c u p u c k o o p o o   c l o p o c k   s e e p e e m s   b r o p o k e p e n . "
     ]
    }
   ],
   "source": [
    "# for문을 이용해서 한 글자씩 뽑아내보자.\n",
    "# 특수 문자(')가 잘 나오는지 확인한다.\n",
    "for i in range(0, len(sentence)) :\n",
    "    print(sentence[i] + ' ', end='')"
   ]
  },
  {
   "cell_type": "code",
   "execution_count": 7,
   "metadata": {},
   "outputs": [
    {
     "name": "stdout",
     "output_type": "stream",
     "text": [
      "Grapandmapa Epevepe's cupuckoopoo clopock seepeems bropokepen.\n"
     ]
    }
   ],
   "source": [
    "# 뽑아낸 글자를 한 변수에 이어붙여보자.\n",
    "eng = ''\n",
    "\n",
    "for i in range(0, len(sentence)) :\n",
    "    eng += sentence[i]\n",
    "\n",
    "print(eng)"
   ]
  },
  {
   "cell_type": "code",
   "execution_count": 8,
   "metadata": {},
   "outputs": [
    {
     "name": "stdout",
     "output_type": "stream",
     "text": [
      "Graandmaa Eevee's cuuckoooo cloock seeeems brookeen.\n"
     ]
    }
   ],
   "source": [
    "# 'p'만 건너뛰기를 해보자. 원하는 알고리즘이 잘 도는지 확인하고자함이다.\n",
    "eng = ''\n",
    "\n",
    "for i in range(0, len(sentence)) :\n",
    "    if sentence[i] != 'p':\n",
    "        eng += sentence[i]\n",
    "\n",
    "print(eng)"
   ]
  },
  {
   "cell_type": "code",
   "execution_count": 10,
   "metadata": {},
   "outputs": [
    {
     "name": "stdout",
     "output_type": "stream",
     "text": [
      "Graandmaa Eevee's cuuckoooo cloock seeeems brookeen.\n",
      "23\n"
     ]
    }
   ],
   "source": [
    "# ok. 잘된다.\n",
    "# 이번에 카운트를 넣자.\n",
    "\n",
    "eng = ''\n",
    "count = 0\n",
    "\n",
    "for i in range(0, len(sentence)) :\n",
    "    if sentence[i] == 'a' or sentence[i] == 'e' or sentence[i] == 'i' or sentence[i] == 'o' or sentence[i] == 'u' :\n",
    "        count += 1\n",
    "\n",
    "    if sentence[i] != 'p':\n",
    "        eng += sentence[i]\n",
    "\n",
    "print(eng)\n",
    "print(count)\n"
   ]
  },
  {
   "cell_type": "code",
   "execution_count": 21,
   "metadata": {},
   "outputs": [
    {
     "name": "stdout",
     "output_type": "stream",
     "text": [
      "Graandmaa Eevee's cuuckoooo cloock seeeems brookeen.\n",
      "23\n"
     ]
    }
   ],
   "source": [
    "# 뭔가, 스마트 하지 않다. 난 파이썬을 쓰자나..\n",
    "\n",
    "vowels = ['a', 'e', 'i', 'o', 'u']\n",
    "\n",
    "eng = ''\n",
    "count = 0\n",
    "\n",
    "for i in range(len(sentence)) :\n",
    "    if sentence[i] in vowels :\n",
    "        count += 1\n",
    "\n",
    "    if sentence[i] != 'p':\n",
    "        eng += sentence[i]\n",
    "\n",
    "print(eng)\n",
    "print(count)"
   ]
  },
  {
   "cell_type": "code",
   "execution_count": 15,
   "metadata": {},
   "outputs": [
    {
     "name": "stdout",
     "output_type": "stream",
     "text": [
      "Graandmaa Eevee's cuuckoooo cloock seeeems brookeen.\n",
      "23\n"
     ]
    }
   ],
   "source": [
    "# 이것도 된다.\n",
    "# 뭐 이런것가지고... 라고 할 수도 있지만, 시험볼때는 이 작은 차이가 커질 수도 있다.\n",
    "\n",
    "vowels2 = 'aeiou'\n",
    "\n",
    "eng = ''\n",
    "count = 0\n",
    "\n",
    "for i in range(len(sentence)) :\n",
    "    if sentence[i] in vowels2 :\n",
    "        count += 1\n",
    "\n",
    "    if sentence[i] != 'p':\n",
    "        eng += sentence[i]\n",
    "\n",
    "print(eng)\n",
    "print(count)"
   ]
  },
  {
   "cell_type": "code",
   "execution_count": 17,
   "metadata": {},
   "outputs": [
    {
     "name": "stdout",
     "output_type": "stream",
     "text": [
      "Grandma Epeve's cpuckoo clpock seems brpoken.\n",
      "1\n"
     ]
    }
   ],
   "source": [
    "# 자 이제는 flag를 만들어서 p를 만나면 true로 한다.\n",
    "# 시작할때와, count가 0이되면 false가 된다.\n",
    "vowels2 = 'aeiou'\n",
    "\n",
    "eng = ''\n",
    "count = 0\n",
    "\n",
    "flag = False\n",
    "\n",
    "for i in range(len(sentence)) :\n",
    "\n",
    "    if sentence[i] in vowels2 :\n",
    "        if flag == False:\n",
    "            count +=1\n",
    "            eng += sentence[i]\n",
    "        else:\n",
    "            count -=1\n",
    "            if count ==0 : flag = False\n",
    "    elif sentence[i] == 'p':\n",
    "        if count > 0:\n",
    "            flag = True\n",
    "        else :\n",
    "            eng += sentence[i]     # 'play' 생각해보시라..  \n",
    "    else:\n",
    "        eng += sentence[i]\n",
    "\n",
    "print(eng)"
   ]
  },
  {
   "cell_type": "code",
   "execution_count": 19,
   "metadata": {},
   "outputs": [
    {
     "name": "stdout",
     "output_type": "stream",
     "text": [
      "Grandma Epeve's cuckoo clock seems broken.\n",
      "0\n"
     ]
    }
   ],
   "source": [
    "# 한번에 잘하긴 어렵군. ㅎㅎㅎㅎ 공백(' ')을 고려해야겠다.\n",
    "\n",
    "vowels2 = 'aeiou'\n",
    "\n",
    "eng = ''\n",
    "count = 0\n",
    "\n",
    "flag = False\n",
    "\n",
    "for i in range(len(sentence)) :\n",
    "\n",
    "    if sentence[i] in vowels2 :\n",
    "        if flag == False:\n",
    "            count +=1\n",
    "            eng += sentence[i]\n",
    "        else:\n",
    "            count -=1\n",
    "            if count ==0 : flag = False\n",
    "    elif sentence[i] == 'p':\n",
    "        if count > 0:\n",
    "            flag = True\n",
    "        else :\n",
    "            eng += sentence[i]     # 'play' 생각해보시라.. \n",
    "    elif sentence[i] == ' ':\n",
    "        count = 0\n",
    "        flag = False\n",
    "        eng += sentence[i]\n",
    "    else:\n",
    "        eng += sentence[i]\n",
    "\n",
    "print(eng)"
   ]
  },
  {
   "cell_type": "code",
   "execution_count": 22,
   "metadata": {},
   "outputs": [
    {
     "name": "stdout",
     "output_type": "stream",
     "text": [
      "Grandma Eve's cuckoo clock seems broken.\n"
     ]
    }
   ],
   "source": [
    "# 대문자 ㅠㅠ\n",
    "\n",
    "vowels2 = 'aeiouAEIOU'\n",
    "\n",
    "eng = ''\n",
    "count = 0\n",
    "\n",
    "flag = False\n",
    "\n",
    "for i in range(len(sentence)) :\n",
    "\n",
    "    if sentence[i] in vowels2 :\n",
    "        if flag == False:\n",
    "            count +=1\n",
    "            eng += sentence[i]\n",
    "        else:\n",
    "            count -=1\n",
    "            if count ==0 : flag = False\n",
    "    elif sentence[i] == 'p':\n",
    "        if count > 0:\n",
    "            flag = True\n",
    "        else :\n",
    "            eng += sentence[i]     # 'play' 생각해보시라.. \n",
    "    elif sentence[i] == ' ':\n",
    "        count = 0\n",
    "        flag = False\n",
    "        eng += sentence[i]\n",
    "    else:\n",
    "        eng += sentence[i]\n",
    "\n",
    "print(eng)"
   ]
  },
  {
   "cell_type": "code",
   "execution_count": 23,
   "metadata": {},
   "outputs": [
    {
     "name": "stdout",
     "output_type": "stream",
     "text": [
      "When the cat's away, the mice will play.\n"
     ]
    }
   ],
   "source": [
    "# 두번째 예도 실행해보자.\n",
    "sentence = 'Whepen thepe capat\\'s apawapay, thepe mipicepe wipill plapay.'\n",
    "\n",
    "vowels2 = 'aeiouAEIOU'\n",
    "\n",
    "eng = ''\n",
    "count = 0\n",
    "\n",
    "flag = False\n",
    "\n",
    "for i in range(len(sentence)) :\n",
    "\n",
    "    if sentence[i] in vowels2 :\n",
    "        if flag == False:\n",
    "            count +=1\n",
    "            eng += sentence[i]\n",
    "        else:\n",
    "            count -=1\n",
    "            if count ==0 : flag = False\n",
    "    elif sentence[i] == 'p':\n",
    "        if count > 0:\n",
    "            flag = True\n",
    "        else :\n",
    "            eng += sentence[i]     # 'play' 생각해보시라.. \n",
    "    elif sentence[i] == ' ':\n",
    "        count = 0\n",
    "        flag = False\n",
    "        eng += sentence[i]\n",
    "    else:\n",
    "        eng += sentence[i]\n",
    "\n",
    "print(eng)"
   ]
  }
 ],
 "metadata": {
  "kernelspec": {
   "display_name": "Python 3.9.12 ('base')",
   "language": "python",
   "name": "python3"
  },
  "language_info": {
   "codemirror_mode": {
    "name": "ipython",
    "version": 3
   },
   "file_extension": ".py",
   "mimetype": "text/x-python",
   "name": "python",
   "nbconvert_exporter": "python",
   "pygments_lexer": "ipython3",
   "version": "3.9.12"
  },
  "orig_nbformat": 4,
  "vscode": {
   "interpreter": {
    "hash": "40d3a090f54c6569ab1632332b64b2c03c39dcf918b08424e98f38b5ae0af88f"
   }
  }
 },
 "nbformat": 4,
 "nbformat_minor": 2
}
