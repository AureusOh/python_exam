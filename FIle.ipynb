{
 "cells": [
  {
   "cell_type": "code",
   "execution_count": 11,
   "metadata": {},
   "outputs": [],
   "source": [
    "# input\n",
    "num = '3.141592653589793238462643383279502884197169399375105820'\n",
    "steps = 5"
   ]
  },
  {
   "cell_type": "code",
   "execution_count": 12,
   "metadata": {},
   "outputs": [
    {
     "data": {
      "text/plain": [
       "'3141592653589793238462643383279502884197169399375105820'"
      ]
     },
     "execution_count": 12,
     "metadata": {},
     "output_type": "execute_result"
    }
   ],
   "source": [
    "# ommit '.' , '-'\n",
    "num = num.replace('.', '')\n",
    "num = num.replace('-', '')\n",
    "num\n"
   ]
  },
  {
   "cell_type": "code",
   "execution_count": 13,
   "metadata": {},
   "outputs": [
    {
     "name": "stdout",
     "output_type": "stream",
     "text": [
      "3\n",
      "1\n",
      "4\n",
      "1\n",
      "5\n",
      "9\n",
      "2\n",
      "6\n",
      "5\n",
      "3\n",
      "5\n",
      "8\n",
      "9\n",
      "7\n",
      "9\n",
      "3\n",
      "2\n",
      "3\n",
      "8\n",
      "4\n",
      "6\n",
      "2\n",
      "6\n",
      "4\n",
      "3\n",
      "3\n",
      "8\n",
      "3\n",
      "2\n",
      "7\n",
      "9\n",
      "5\n",
      "0\n",
      "2\n",
      "8\n",
      "8\n",
      "4\n",
      "1\n",
      "9\n",
      "7\n",
      "1\n",
      "6\n",
      "9\n",
      "3\n",
      "9\n",
      "9\n",
      "3\n",
      "7\n",
      "5\n",
      "1\n",
      "0\n",
      "5\n",
      "8\n",
      "2\n",
      "0\n"
     ]
    }
   ],
   "source": [
    "# 이제 문자열을 하나씩 꺼내보자.\n",
    "for i in range(0, len(num)):\n",
    "    print(num[i])"
   ]
  },
  {
   "cell_type": "code",
   "execution_count": 14,
   "metadata": {},
   "outputs": [
    {
     "name": "stdout",
     "output_type": "stream",
     "text": [
      "\n",
      "3 \n",
      "1 4 \n",
      "1 5 9 \n",
      "2 6 5 3 \n",
      "5 8 9 7 9 \n"
     ]
    }
   ],
   "source": [
    "# 이번에는 step 만큼 숫자를 빼보자.\n",
    "idx = 0\n",
    "\n",
    "for i in range(0, steps+1):\n",
    "    for j in range(0, i):\n",
    "        print(num[idx]+ ' ', end='')\n",
    "        idx+=1\n",
    "    print()"
   ]
  },
  {
   "cell_type": "code",
   "execution_count": 15,
   "metadata": {},
   "outputs": [
    {
     "name": "stdout",
     "output_type": "stream",
     "text": [
      "3 \n",
      "1 4 \n",
      "1 5 \n",
      "9 2 6 \n",
      "5 3 5 \n",
      "8 9 7 \n",
      "9 3 2 3 \n",
      "8 4 6 2 \n",
      "6 4 3 3 \n",
      "8 3 2 7 \n",
      "9 5 0 2 8 \n",
      "8 4 1 9 7 \n",
      "1 6 9 3 9 \n",
      "9 3 7 5 1 \n",
      "0 5 8 2 0 \n"
     ]
    }
   ],
   "source": [
    "# 이번에는 step만큼 횟수로 빼보자\n",
    "idx = 0\n",
    "\n",
    "for i in range(0, steps+1):\n",
    "    for j in range(0, i):\n",
    "        for k in range(0, i):\n",
    "            print(num[idx]+ ' ', end='')\n",
    "            idx+=1\n",
    "        print()"
   ]
  },
  {
   "cell_type": "code",
   "execution_count": 20,
   "metadata": {},
   "outputs": [
    {
     "name": "stdout",
     "output_type": "stream",
     "text": [
      "\n",
      "3\n",
      "5 6\n",
      "17 13 24\n",
      "17 20 16 20\n",
      "24 29 28 25 15\n"
     ]
    }
   ],
   "source": [
    "# 자 이제 묶음으로 합산하자.\n",
    "idx = 0\n",
    "sum = 0\n",
    "\n",
    "for i in range(0, steps+1):\n",
    "    for j in range(0, i):\n",
    "        for k in range(0, i):\n",
    "            sum = sum + int(num[idx])\n",
    "            idx+=1\n",
    "        print(sum, end='')\n",
    "        print(' ', end='')\n",
    "        sum = 0\n",
    "    print()"
   ]
  }
 ],
 "metadata": {
  "kernelspec": {
   "display_name": "Python 3.9.12 ('base')",
   "language": "python",
   "name": "python3"
  },
  "language_info": {
   "codemirror_mode": {
    "name": "ipython",
    "version": 3
   },
   "file_extension": ".py",
   "mimetype": "text/x-python",
   "name": "python",
   "nbconvert_exporter": "python",
   "pygments_lexer": "ipython3",
   "version": "3.9.12"
  },
  "orig_nbformat": 4,
  "vscode": {
   "interpreter": {
    "hash": "40d3a090f54c6569ab1632332b64b2c03c39dcf918b08424e98f38b5ae0af88f"
   }
  }
 },
 "nbformat": 4,
 "nbformat_minor": 2
}
