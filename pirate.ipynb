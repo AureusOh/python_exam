{
 "cells": [
  {
   "cell_type": "markdown",
   "metadata": {},
   "source": [
    "숫자와 관련되서 나오는 경우\n",
    "\n",
    "소수, 나눗셈의 나머지와 몫, 최대공약수, 최소공배수\n",
    "\n",
    "\n",
    "뭔가 문제는 엄청 긴데, 매우 쉬운 문제이다."
   ]
  },
  {
   "cell_type": "code",
   "execution_count": 10,
   "metadata": {},
   "outputs": [],
   "source": [
    "n = 5      # 해적\n",
    "nuts = 3121 # 코코넛"
   ]
  },
  {
   "cell_type": "code",
   "execution_count": 11,
   "metadata": {},
   "outputs": [
    {
     "name": "stdout",
     "output_type": "stream",
     "text": [
      "3121 nuts = 624 nuts for pirate#1 and 1 nut for the monkey\n",
      "2496 nuts = 499 nuts for pirate#2 and 1 nut for the monkey\n",
      "1996 nuts = 399 nuts for pirate#3 and 1 nut for the monkey\n",
      "1596 nuts = 319 nuts for pirate#4 and 1 nut for the monkey\n",
      "1276 nuts = 255 nuts for pirate#5 and 1 nut for the monkey\n"
     ]
    }
   ],
   "source": [
    "\n",
    "# for 문도 익숙해졌으니, 바로 풀어보자.\n",
    "\n",
    "for i in range(n):\n",
    "    print('%d nuts = %d nuts for pirate#%d and %d nut for the monkey' % (nuts, nuts/n, i+1, nuts%n))\n",
    "    nuts = nuts - (int(nuts/n) + nuts%n)\n"
   ]
  },
  {
   "cell_type": "code",
   "execution_count": 12,
   "metadata": {},
   "outputs": [
    {
     "name": "stdout",
     "output_type": "stream",
     "text": [
      "each pirate gets 204 nuts and 0 nuts for the monkey\n"
     ]
    }
   ],
   "source": [
    "# 이제 마지막 남은 것을 처리\n",
    "print('each pirate gets %d nuts and %d nuts for the monkey' % (nuts/n, nuts%n))"
   ]
  },
  {
   "cell_type": "code",
   "execution_count": 13,
   "metadata": {},
   "outputs": [
    {
     "name": "stdout",
     "output_type": "stream",
     "text": [
      "3121 nuts = 624 nuts for pirate#1 and 1 nut for the monkey\n",
      "2496 nuts = 499 nuts for pirate#2 and 1 nut for the monkey\n",
      "1996 nuts = 399 nuts for pirate#3 and 1 nut for the monkey\n",
      "1596 nuts = 319 nuts for pirate#4 and 1 nut for the monkey\n",
      "1276 nuts = 255 nuts for pirate#5 and 1 nut for the monkey\n",
      "each pirate gets 204 nuts and no nuts for the monkey\n"
     ]
    }
   ],
   "source": [
    "# 이렇게 끝나면 좋은데,.... no nuts와 1 nut 을 처리해줘야한다.\n",
    "\n",
    "n = 5      # 해적\n",
    "nuts = 3121 # 코코넛\n",
    "\n",
    "def coco(n):\n",
    "    if n==0:\n",
    "        return 'no nuts'\n",
    "    elif n==1:\n",
    "        return '1 nut'\n",
    "    \n",
    "    return '%d nuts' % (n)\n",
    "\n",
    "\n",
    "for i in range(n):\n",
    "    print('%s = %s for pirate#%d and %s for the monkey' % (coco(nuts), coco(nuts/n), i+1, coco(nuts%n)))\n",
    "    nuts = nuts - (int(nuts/n) + nuts%n)\n",
    "print('each pirate gets %s and %s for the monkey' % (coco(nuts/n), coco(nuts%n)))"
   ]
  },
  {
   "cell_type": "code",
   "execution_count": 14,
   "metadata": {},
   "outputs": [
    {
     "name": "stdout",
     "output_type": "stream",
     "text": [
      "1234 nuts = 308 nuts for pirate#1 and 2 nuts for the monkey\n",
      "924 nuts = 231 nuts for pirate#2 and no nuts for the monkey\n",
      "693 nuts = 173 nuts for pirate#3 and 1 nut for the monkey\n",
      "519 nuts = 129 nuts for pirate#4 and 3 nuts for the monkey\n",
      "each pirate gets 96 nuts and 3 nuts for the monkey\n"
     ]
    }
   ],
   "source": [
    "# 두 번째 예제도..\n",
    "\n",
    "n = 4      # 해적\n",
    "nuts = 1234 # 코코넛\n",
    "\n",
    "def coco(n):\n",
    "    if n==0:\n",
    "        return 'no nuts'\n",
    "    elif n==1:\n",
    "        return '1 nut'\n",
    "    \n",
    "    return '%d nuts' % (n)\n",
    "\n",
    "\n",
    "for i in range(n):\n",
    "    print('%s = %s for pirate#%d and %s for the monkey' % (coco(nuts), coco(nuts/n), i+1, coco(nuts%n)))\n",
    "    nuts = nuts - (int(nuts/n) + nuts%n)\n",
    "print('each pirate gets %s and %s for the monkey' % (coco(nuts/n), coco(nuts%n)))"
   ]
  }
 ],
 "metadata": {
  "kernelspec": {
   "display_name": "Python 3.9.12 ('base')",
   "language": "python",
   "name": "python3"
  },
  "language_info": {
   "codemirror_mode": {
    "name": "ipython",
    "version": 3
   },
   "file_extension": ".py",
   "mimetype": "text/x-python",
   "name": "python",
   "nbconvert_exporter": "python",
   "pygments_lexer": "ipython3",
   "version": "3.9.12"
  },
  "orig_nbformat": 4,
  "vscode": {
   "interpreter": {
    "hash": "40d3a090f54c6569ab1632332b64b2c03c39dcf918b08424e98f38b5ae0af88f"
   }
  }
 },
 "nbformat": 4,
 "nbformat_minor": 2
}
