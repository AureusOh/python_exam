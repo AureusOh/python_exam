{
 "cells": [
  {
   "cell_type": "markdown",
   "metadata": {},
   "source": [
    "이런 문제를 만나면, 고민스러운게...\n",
    "\n",
    "무식하게 할 것인가?? 아니면... 뭔가 산뜻한 아이디어를 생각해볼까??\n",
    "\n",
    "근데.. 내가 고민한들 산뜻한 아이디어가 나올까?? ㅋㅋ"
   ]
  },
  {
   "cell_type": "code",
   "execution_count": 6,
   "metadata": {},
   "outputs": [
    {
     "name": "stdout",
     "output_type": "stream",
     "text": [
      "(15, 112, 113)\n",
      "(40, 96, 104)\n",
      "(48, 90, 102)\n",
      "(60, 80, 100)\n"
     ]
    }
   ],
   "source": [
    "# 무작정 돌리기로한다.\n",
    "# 그래도.. 순환을 최소화할 수 있게, 조건을 넣어 해당되지 않으면 바로 빠져나가도록 한다.\n",
    "\n",
    "# 2부터 시작한다.\n",
    "n = 240\n",
    "\n",
    "for a in range(2, n-1):\n",
    "    for b in range(a+1, n):\n",
    "        if b%a == 0:    # a와 b가 서로소이면, 두번째 for문을 나간다.\n",
    "            continue\n",
    "\n",
    "        for c in range(b+1, n+1):\n",
    "            if c%a ==0 or c%b ==0:\n",
    "                continue\n",
    "\n",
    "            # a, b, c 서로소 관계가 아니면..\n",
    "            if ( (a + b + c) == n ) and ( (a*a + b*b) == c*c ):\n",
    "                print('(%d, %d, %d)'%(a, b, c))\n"
   ]
  },
  {
   "cell_type": "code",
   "execution_count": null,
   "metadata": {},
   "outputs": [],
   "source": [
    "#이런... 끝났네.."
   ]
  },
  {
   "cell_type": "code",
   "execution_count": 2,
   "metadata": {},
   "outputs": [
    {
     "name": "stdout",
     "output_type": "stream",
     "text": [
      "(15, 112, 113)\n",
      "(40, 96, 104)\n",
      "(48, 90, 102)\n",
      "(60, 80, 100)\n"
     ]
    }
   ],
   "source": [
    "# 맘에 안든다... \n",
    "# a와 b를 선택하면, c가 정해진다. 즉, c = n - (a+b)\n",
    "# for문 한개를 없애보자.\n",
    "\n",
    "n = 240\n",
    "\n",
    "for a in range(2, n-1):\n",
    "    for b in range(a+1, n):\n",
    "\n",
    "        c = n - (a + b) # c는 계산되어지고\n",
    "\n",
    "        if b%a == 0 or c%a ==0 or c%b ==0: # 서로소인지 확인해보고\n",
    "            continue\n",
    "\n",
    "        # a, b, c 서로소 관계가 아니면..\n",
    "        if (a*a + b*b) == c*c :\n",
    "            print('(%d, %d, %d)'%(a, b, c))\n"
   ]
  },
  {
   "cell_type": "code",
   "execution_count": 5,
   "metadata": {},
   "outputs": [
    {
     "name": "stdout",
     "output_type": "stream",
     "text": [
      "(15, 112, 113)\n",
      "(40, 96, 104)\n",
      "(48, 90, 102)\n",
      "(60, 80, 100)\n"
     ]
    }
   ],
   "source": [
    "# 자, 이번에는 n-1, n까지 가는게 맞는지보자.\n",
    "# 제일 작은 수 a가 가장 큰경우가 n-1일까?\n",
    "# 아닐꺼다. n/3의 정수값일꺼다..\n",
    "# 그렇다면, b는??\n",
    "# n*(2/3)일꺼다.\n",
    "\n",
    "n = 240\n",
    "\n",
    "for a in range(2, int(n/3)):\n",
    "    for b in range(a+1, int(2*n/3)):\n",
    "\n",
    "        c = n - (a + b) # c는 계산되어지고\n",
    "\n",
    "        if b%a == 0 or c%a ==0 or c%b ==0: # 서로소인지 확인해보고\n",
    "            continue\n",
    "\n",
    "        # a, b, c 서로소 관계가 아니면..\n",
    "        if (a*a + b*b) == c*c :\n",
    "            print('(%d, %d, %d)'%(a, b, c))"
   ]
  },
  {
   "cell_type": "code",
   "execution_count": null,
   "metadata": {},
   "outputs": [],
   "source": [
    "# 답은.. 맞는데...\n",
    "# 효율화 점수가 없는 경우라면, 제일 처음코드로 빨리푸는게 더 나은 선택같다.\n",
    "# 아니면 저 패턴을 외우고 있던가...\n",
    "# 공부할때도 생각못하는게 시험볼때 생각이 날리가..."
   ]
  }
 ],
 "metadata": {
  "kernelspec": {
   "display_name": "Python 3.9.12 ('base')",
   "language": "python",
   "name": "python3"
  },
  "language_info": {
   "codemirror_mode": {
    "name": "ipython",
    "version": 3
   },
   "file_extension": ".py",
   "mimetype": "text/x-python",
   "name": "python",
   "nbconvert_exporter": "python",
   "pygments_lexer": "ipython3",
   "version": "3.9.12"
  },
  "orig_nbformat": 4,
  "vscode": {
   "interpreter": {
    "hash": "40d3a090f54c6569ab1632332b64b2c03c39dcf918b08424e98f38b5ae0af88f"
   }
  }
 },
 "nbformat": 4,
 "nbformat_minor": 2
}
