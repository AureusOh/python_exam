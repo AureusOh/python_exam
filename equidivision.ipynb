{
 "cells": [
  {
   "cell_type": "code",
   "execution_count": 1,
   "metadata": {},
   "outputs": [],
   "source": [
    "# 새로운 자료형이 등장한다.\n",
    "# 튜블과 딕셔너리\n",
    "# 튜블은 리스트와 유사하지만, ()로 닫히고 수정이 불가하다.\n",
    "# 딕셔너리는.."
   ]
  },
  {
   "cell_type": "code",
   "execution_count": 2,
   "metadata": {},
   "outputs": [
    {
     "name": "stdout",
     "output_type": "stream",
     "text": [
      "(0, 0)\n",
      "(0, 1)\n",
      "(0, 2)\n",
      "(1, 0)\n",
      "(1, 1)\n",
      "(1, 2)\n",
      "(2, 0)\n",
      "(2, 1)\n",
      "(2, 2)\n"
     ]
    }
   ],
   "source": [
    "#튜플을 만들어보자.\n",
    "for i in range(3):\n",
    "    for j in range(3):\n",
    "        tu = (i, j)\n",
    "        print (tu)"
   ]
  },
  {
   "cell_type": "code",
   "execution_count": 3,
   "metadata": {},
   "outputs": [
    {
     "name": "stdout",
     "output_type": "stream",
     "text": [
      "(0, 0)\n",
      "(0, 1)\n",
      "(0, 2)\n",
      "(1, 0)\n",
      "(1, 1)\n",
      "(1, 2)\n",
      "(2, 0)\n",
      "(2, 1)\n",
      "(2, 2)\n"
     ]
    }
   ],
   "source": [
    "# 주어진 grid의 사이즈에 따라 튜플을 만들어보고\n",
    "grid = [[1, 1, 1], [2, 2, 3], [2, 3, 3]]\n",
    "\n",
    "n= len(grid)\n",
    "\n",
    "for i in range(n):\n",
    "    for j in range(n):\n",
    "        tu = (i, j)\n",
    "        print (tu)"
   ]
  },
  {
   "cell_type": "code",
   "execution_count": 4,
   "metadata": {},
   "outputs": [
    {
     "name": "stdout",
     "output_type": "stream",
     "text": [
      "(0, 0)  =  1\n",
      "(0, 1)  =  1\n",
      "(0, 2)  =  1\n",
      "(1, 0)  =  2\n",
      "(1, 1)  =  2\n",
      "(1, 2)  =  3\n",
      "(2, 0)  =  2\n",
      "(2, 1)  =  3\n",
      "(2, 2)  =  3\n"
     ]
    }
   ],
   "source": [
    "# grid안에 있는 숫자도 출력해보고\n",
    "grid = [[1, 1, 1], [2, 2, 3], [2, 3, 3]]\n",
    "\n",
    "n= len(grid)\n",
    "\n",
    "for i in range(n):\n",
    "    for j in range(n):\n",
    "        tu = (i, j)\n",
    "        print(tu, \" = \", grid[i][j])"
   ]
  },
  {
   "cell_type": "code",
   "execution_count": 5,
   "metadata": {},
   "outputs": [
    {
     "name": "stdout",
     "output_type": "stream",
     "text": [
      "{1: [(0, 0), (1, 1)]}\n"
     ]
    }
   ],
   "source": [
    "# 이번에는 딕셔너리\n",
    "dic = {}\n",
    "\n",
    "dic[1] = [(0,0)]\n",
    "\n",
    "dic[1].append((1,1))\n",
    "\n",
    "print(dic)\n",
    "\n",
    "# ok. 모든 준비는 끝\n"
   ]
  },
  {
   "cell_type": "code",
   "execution_count": 6,
   "metadata": {},
   "outputs": [
    {
     "name": "stdout",
     "output_type": "stream",
     "text": [
      "{1: [(0, 0), (0, 1), (0, 2)], 2: [(1, 0), (1, 1), (2, 0)], 3: [(1, 2), (2, 1), (2, 2)]}\n"
     ]
    }
   ],
   "source": [
    "# grid안에 있는 숫자도 출력해보고\n",
    "grid = [[1, 1, 1], [2, 2, 3], [2, 3, 3]]\n",
    "\n",
    "n= len(grid)\n",
    "\n",
    "dic = {}\n",
    "\n",
    "for i in range(n):\n",
    "    for j in range(n):\n",
    "        \n",
    "        key = grid[i][j]\n",
    "        \n",
    "        if key in dic:  # 키가 이미 있으면\n",
    "            dic[key].append((i, j))\n",
    "            \n",
    "        else:   # 새로운 키가 들어오면\n",
    "            dic[key] = [(i, j)]\n",
    "            \n",
    "            \n",
    "print(dic)"
   ]
  },
  {
   "cell_type": "code",
   "execution_count": 7,
   "metadata": {},
   "outputs": [],
   "source": [
    "# {} [] 가 다른건 모르겠네용..."
   ]
  },
  {
   "cell_type": "code",
   "execution_count": 8,
   "metadata": {},
   "outputs": [],
   "source": [
    "# 함수로 만들면\n",
    "\n",
    "def groups(grid):\n",
    "    n= len(grid)\n",
    "\n",
    "    dic = {}\n",
    "    \n",
    "    for i in range(n):\n",
    "        for j in range(n):\n",
    "            \n",
    "            key = grid[i][j]\n",
    "            \n",
    "            if key in dic:  # 키가 이미 있으면\n",
    "                dic[key].append((i, j))\n",
    "                \n",
    "            else:   # 새로운 키가 들어오면\n",
    "                dic[key] = [(i, j)]\n",
    "                \n",
    "    return dic"
   ]
  },
  {
   "cell_type": "code",
   "execution_count": 9,
   "metadata": {},
   "outputs": [
    {
     "data": {
      "text/plain": [
       "{1: [(0, 0), (0, 1), (0, 2)],\n",
       " 2: [(1, 0), (1, 1), (2, 0)],\n",
       " 3: [(1, 2), (2, 1), (2, 2)]}"
      ]
     },
     "execution_count": 9,
     "metadata": {},
     "output_type": "execute_result"
    }
   ],
   "source": [
    "grid = [[1, 1, 1], [2, 2, 3], [2, 3, 3]]\n",
    "\n",
    "groups(grid)"
   ]
  },
  {
   "cell_type": "code",
   "execution_count": 10,
   "metadata": {},
   "outputs": [
    {
     "data": {
      "text/plain": [
       "{1: [(0, 0), (0, 1), (0, 2), (1, 1), (2, 1)],\n",
       " 5: [(0, 3), (0, 4), (1, 2), (1, 3), (2, 2)],\n",
       " 2: [(1, 0), (2, 0), (3, 0), (3, 1), (4, 0)],\n",
       " 4: [(1, 4), (2, 3), (2, 4), (3, 2), (3, 3)],\n",
       " 3: [(3, 4), (4, 1), (4, 2), (4, 3), (4, 4)]}"
      ]
     },
     "execution_count": 10,
     "metadata": {},
     "output_type": "execute_result"
    }
   ],
   "source": [
    "grid = [[1, 1, 1, 5, 5], [2, 1, 5, 5, 4], [2, 1, 5, 4, 4], [2, 2, 4, 4, 3], [2, 3, 3, 3, 3]]\n",
    "\n",
    "groups(grid)"
   ]
  },
  {
   "cell_type": "code",
   "execution_count": 11,
   "metadata": {},
   "outputs": [],
   "source": [
    "# 영어가 복잡하지만..\n",
    "# 준비 전체 집합 S가 있고\n",
    "# , 여기서 하나 e를 꺼내어 리스트 L에 넣는다.\n",
    "\n",
    "# 반복\n",
    "# 리스트에 있는 f를 하나 꺼내어 리스트에서는 지우고,\n",
    "# 전체 집합 S에서 f와 인접한건 모두 꺼내어 L에 넣는다.\n",
    "# 반복하고.. S에 뭔가 남아있으면... 연결이 안된거다.\n",
    "#\n",
    "# 인접한건 인자의 차이가 -1 또는 1이면 된다. 즉, (a, b), (c, d)가 있으면\n",
    "# a-c + b -d 가 -1 또는 1이면 인접한거다."
   ]
  },
  {
   "cell_type": "code",
   "execution_count": 12,
   "metadata": {},
   "outputs": [
    {
     "name": "stdout",
     "output_type": "stream",
     "text": [
      "[(1, 2), (1, 3), (2, 2), (0, 3)]\n",
      "[(0, 4)]\n"
     ]
    }
   ],
   "source": [
    "# 이제 시키는데로 해보자.\n",
    "\n",
    "# 준비 전체 집합 S가 있고\n",
    "S = [(1, 2), (1, 3), (2, 2), (0, 3), (0, 4)]\n",
    "# , 여기서 하나 e를 꺼내어 리스트 L에 넣는다.  <-- pop()을 이용할거다.\n",
    "L = [S.pop()]\n",
    "\n",
    "print(S)\n",
    "print(L)\n",
    "\n",
    "#원하는데로 S에서는 제거가 되고, L에 추가되었다."
   ]
  },
  {
   "cell_type": "code",
   "execution_count": 13,
   "metadata": {},
   "outputs": [
    {
     "name": "stdout",
     "output_type": "stream",
     "text": [
      "True\n"
     ]
    }
   ],
   "source": [
    "S = [(1, 2), (1, 3), (2, 2), (0, 3), (0, 4)]\n",
    "L = [S.pop()]\n",
    "\n",
    "# 반복\n",
    "# 리스트에 있는 f를 하나 꺼내어 리스트에서는 지우고,\n",
    "while(L):\n",
    "    f = L.pop()\n",
    "\n",
    "    # 전체 집합 S에서 f와 인접한건 모두 꺼내어 L에 넣는다.\n",
    "    for i, s in enumerate(S):\n",
    "        if s[0] == f[0]:    # 첫번째 인자가 같은 줄이면\n",
    "            if abs(s[1] - f[1]) == 1:   # 인접한 경우다.\n",
    "                L.append(S.pop(i))\n",
    "        elif s[1] == f[1]:\n",
    "            if abs(s[0] - f[0]) == 1:   # 인접한 경우다.\n",
    "                L.append(S.pop(i))\n",
    "\n",
    "if S:\n",
    "    print(False)\n",
    "else:\n",
    "    print(True)"
   ]
  },
  {
   "cell_type": "code",
   "execution_count": 14,
   "metadata": {},
   "outputs": [
    {
     "name": "stdout",
     "output_type": "stream",
     "text": [
      "False\n"
     ]
    }
   ],
   "source": [
    "S = [(1, 2), (1, 4), (2, 2), (0, 3), (0, 4)]\n",
    "L = [S.pop()]\n",
    "\n",
    "# 반복\n",
    "# 리스트에 있는 f를 하나 꺼내어 리스트에서는 지우고,\n",
    "while(L):\n",
    "    f = L.pop()\n",
    "\n",
    "    # 전체 집합 S에서 f와 인접한건 모두 꺼내어 L에 넣는다.\n",
    "    for i, s in enumerate(S):\n",
    "        if s[0] == f[0]:    # 첫번째 인자가 같은 줄이면\n",
    "            if abs(s[1] - f[1]) == 1:   # 인접한 경우다.\n",
    "                L.append(S.pop(i))\n",
    "        elif s[1] == f[1]:\n",
    "            if abs(s[0] - f[0]) == 1:   # 인접한 경우다.\n",
    "                L.append(S.pop(i))\n",
    "\n",
    "if S:\n",
    "    print(False)\n",
    "else:\n",
    "    print(True)"
   ]
  },
  {
   "cell_type": "code",
   "execution_count": 15,
   "metadata": {},
   "outputs": [],
   "source": [
    "# 함수 형태로 만들자\n",
    "def isconnected(S):\n",
    "    L = [S.pop()]\n",
    "\n",
    "    # 리스트에 있는 f를 하나 꺼내어 리스트에서는 지우고,\n",
    "    while(L):\n",
    "        f = L.pop()\n",
    "        \n",
    "        S2 = S.copy()\n",
    "\n",
    "        # 전체 집합 S에서 f와 인접한건 모두 꺼내어 L에 넣는다.\n",
    "        for i, s in enumerate(S2):\n",
    "            if s[0] == f[0]:    # 첫번째 인자가 같은 줄이면\n",
    "                if abs(s[1] - f[1]) == 1:   # 인접한 경우다.\n",
    "                    L.append(S.pop(i))\n",
    "            if s[1] == f[1]:\n",
    "                if abs(s[0] - f[0]) == 1:   # 인접한 경우다.\n",
    "                    L.append(S.pop(i))\n",
    "\n",
    "\n",
    "    if S:\n",
    "        return False\n",
    "    else:\n",
    "        return True"
   ]
  },
  {
   "cell_type": "code",
   "execution_count": 16,
   "metadata": {},
   "outputs": [],
   "source": [
    "# 간단하게 하려고 enumerate를 써봤는데, 오류가 있다.\n",
    "# S.pop을 하면서 S의 길이가 줄기때문에 index가 맞지 않게된다.\n",
    "# 뒤에서 부터 시작하면되는데 enumerate로는 어떻게 구현하는지 모르겠다.\n",
    "# 쉽게 고쳐보자.\n",
    "\n",
    "def isconnected(S):\n",
    "    L = [S.pop()]\n",
    "\n",
    "    # 리스트에 있는 f를 하나 꺼내어 리스트에서는 지우고,\n",
    "    while(L):\n",
    "        f = L.pop()\n",
    "\n",
    "        # 전체 집합 S에서 f와 인접한건 모두 꺼내어 L에 넣는다.\n",
    "        for i in range(len(S), 0, -1):\n",
    "            s = S[i-1]\n",
    "            if s[0] == f[0]:    # 첫번째 인자가 같은 줄이면\n",
    "                if abs(s[1] - f[1]) == 1:   # 인접한 경우다.\n",
    "                    L.append(S.pop(i-1))\n",
    "            if s[1] == f[1]:\n",
    "                if abs(s[0] - f[0]) == 1:   # 인접한 경우다.\n",
    "                    L.append(S.pop(i-1))\n",
    "\n",
    "\n",
    "    if S:\n",
    "        return False\n",
    "    else:\n",
    "        return True"
   ]
  },
  {
   "cell_type": "code",
   "execution_count": 17,
   "metadata": {},
   "outputs": [
    {
     "data": {
      "text/plain": [
       "True"
      ]
     },
     "execution_count": 17,
     "metadata": {},
     "output_type": "execute_result"
    }
   ],
   "source": [
    "isconnected([(1, 2), (1, 3), (2, 2), (0, 3), (0, 4)])"
   ]
  },
  {
   "cell_type": "code",
   "execution_count": 18,
   "metadata": {},
   "outputs": [
    {
     "data": {
      "text/plain": [
       "False"
      ]
     },
     "execution_count": 18,
     "metadata": {},
     "output_type": "execute_result"
    }
   ],
   "source": [
    "isconnected([(1, 2), (1, 4), (2, 2), (0, 3), (0, 4)])"
   ]
  },
  {
   "cell_type": "code",
   "execution_count": 19,
   "metadata": {},
   "outputs": [
    {
     "data": {
      "text/plain": [
       "True"
      ]
     },
     "execution_count": 19,
     "metadata": {},
     "output_type": "execute_result"
    }
   ],
   "source": [
    "isconnected([(1, 2), (2, 1), (2, 2)])"
   ]
  },
  {
   "cell_type": "code",
   "execution_count": 20,
   "metadata": {},
   "outputs": [
    {
     "name": "stdout",
     "output_type": "stream",
     "text": [
      "{1: [(0, 0), (0, 1), (0, 2)], 2: [(1, 0), (1, 1), (2, 0)], 3: [(1, 2), (2, 1), (2, 2)]}\n"
     ]
    }
   ],
   "source": [
    "grid = [[1, 1, 1], [2, 2, 3], [2, 3, 3]]\n",
    "\n",
    "g = groups(grid)\n",
    "print(g)"
   ]
  },
  {
   "cell_type": "code",
   "execution_count": 21,
   "metadata": {},
   "outputs": [
    {
     "name": "stdout",
     "output_type": "stream",
     "text": [
      "True\n",
      "True\n",
      "True\n"
     ]
    }
   ],
   "source": [
    "for k in g.keys():\n",
    "    print(isconnected(g[k]))"
   ]
  },
  {
   "cell_type": "code",
   "execution_count": 22,
   "metadata": {},
   "outputs": [],
   "source": [
    "def isequidivision(grid):\n",
    "    g = groups(grid)\n",
    "    \n",
    "    for k in g.keys():\n",
    "        if isconnected(g[k]) == False:\n",
    "            return False\n",
    "    \n",
    "    return True"
   ]
  },
  {
   "cell_type": "code",
   "execution_count": 23,
   "metadata": {},
   "outputs": [
    {
     "data": {
      "text/plain": [
       "True"
      ]
     },
     "execution_count": 23,
     "metadata": {},
     "output_type": "execute_result"
    }
   ],
   "source": [
    "grid = [[1, 1, 1], [2, 2, 3], [2, 3, 3]]\n",
    "isequidivision(grid)"
   ]
  },
  {
   "cell_type": "code",
   "execution_count": 24,
   "metadata": {},
   "outputs": [
    {
     "data": {
      "text/plain": [
       "False"
      ]
     },
     "execution_count": 24,
     "metadata": {},
     "output_type": "execute_result"
    }
   ],
   "source": [
    "grid = [[1, 1, 1], [2, 2, 3], [3, 3, 2]]\n",
    "isequidivision(grid)"
   ]
  },
  {
   "cell_type": "code",
   "execution_count": 25,
   "metadata": {},
   "outputs": [
    {
     "data": {
      "text/plain": [
       "True"
      ]
     },
     "execution_count": 25,
     "metadata": {},
     "output_type": "execute_result"
    }
   ],
   "source": [
    "grid = [[1, 1, 1, 5, 5], [2, 1, 5, 5, 4], [2, 1, 5, 4, 4], [2, 2, 4, 4, 3], [2, 3, 3, 3, 3]]\n",
    "isequidivision(grid)"
   ]
  }
 ],
 "metadata": {
  "kernelspec": {
   "display_name": "Python 3.9.12 ('base')",
   "language": "python",
   "name": "python3"
  },
  "language_info": {
   "codemirror_mode": {
    "name": "ipython",
    "version": 3
   },
   "file_extension": ".py",
   "mimetype": "text/x-python",
   "name": "python",
   "nbconvert_exporter": "python",
   "pygments_lexer": "ipython3",
   "version": "3.9.12"
  },
  "orig_nbformat": 4,
  "vscode": {
   "interpreter": {
    "hash": "40d3a090f54c6569ab1632332b64b2c03c39dcf918b08424e98f38b5ae0af88f"
   }
  }
 },
 "nbformat": 4,
 "nbformat_minor": 2
}
